{
 "cells": [
  {
   "cell_type": "code",
   "execution_count": null,
   "id": "latest-ready",
   "metadata": {},
   "outputs": [],
   "source": [
    "!pip install openmim\n",
    "!mim install mmcv-full\n",
    "!mim install mmdet\n",
    "!mim install mmpose\n",
    "\n",
    "!git clone -q https://github.com/hysts/anime-face-detector\n",
    "!cd anime-face-detector && python setup.py install"
   ]
  },
  {
   "cell_type": "code",
   "execution_count": null,
   "id": "buried-african",
   "metadata": {
    "ExecuteTime": {
     "end_time": "2021-11-03T08:31:03.463387Z",
     "start_time": "2021-11-03T08:31:03.308926Z"
    }
   },
   "outputs": [],
   "source": [
    "import cv2\n",
    "import matplotlib.pyplot as plt\n",
    "import numpy as np\n",
    "\n",
    "import anime_face_detector"
   ]
  },
  {
   "cell_type": "code",
   "execution_count": null,
   "id": "reliable-surfing",
   "metadata": {
    "ExecuteTime": {
     "end_time": "2021-11-03T08:31:03.464661Z",
     "start_time": "2021-11-03T08:31:03.227Z"
    }
   },
   "outputs": [],
   "source": [
    "detector = anime_face_detector.create_detector('yolov3')"
   ]
  },
  {
   "cell_type": "code",
   "execution_count": null,
   "id": "mediterranean-gabriel",
   "metadata": {
    "ExecuteTime": {
     "end_time": "2021-11-03T08:31:03.465265Z",
     "start_time": "2021-11-03T08:31:03.228Z"
    }
   },
   "outputs": [],
   "source": [
    "image = cv2.imread('assets/input.jpg')\n",
    "plt.figure(figsize=(30, 30))\n",
    "plt.imshow(image[:, :, ::-1])\n",
    "plt.axis('off')\n",
    "plt.show()"
   ]
  },
  {
   "cell_type": "code",
   "execution_count": null,
   "id": "damaged-viewer",
   "metadata": {
    "ExecuteTime": {
     "end_time": "2021-11-03T08:31:03.465919Z",
     "start_time": "2021-11-03T08:31:03.229Z"
    }
   },
   "outputs": [],
   "source": [
    "preds = detector(image)"
   ]
  },
  {
   "cell_type": "code",
   "execution_count": null,
   "id": "practical-teddy",
   "metadata": {
    "ExecuteTime": {
     "end_time": "2021-11-03T08:31:03.466567Z",
     "start_time": "2021-11-03T08:31:03.231Z"
    }
   },
   "outputs": [],
   "source": [
    "FACE_SCORE_THRESH = 0.5\n",
    "LANDMARK_SCORE_THRESH = 0.3\n",
    "\n",
    "res = image.copy()\n",
    "for pred in preds:\n",
    "    box = pred['bbox']\n",
    "    box, score = box[:4], box[4]\n",
    "    if score < FACE_SCORE_THRESH:\n",
    "        continue\n",
    "    box = np.round(box).astype(int)\n",
    "\n",
    "    lt = max(2, int(3 * (box[2:] - box[:2]).max() / 256))\n",
    "\n",
    "    cv2.rectangle(res, tuple(box[:2]), tuple(box[2:]), (0, 255, 0), lt)\n",
    "\n",
    "    pred_pts = pred['keypoints']\n",
    "    for *pt, score in pred_pts:\n",
    "        if score < LANDMARK_SCORE_THRESH:\n",
    "            color = (0, 255, 255)\n",
    "        else:\n",
    "            color = (0, 0, 255)\n",
    "        pt = np.round(pt).astype(int)\n",
    "        cv2.circle(res, tuple(pt), lt, color, cv2.FILLED)\n",
    "\n",
    "plt.figure(figsize=(30, 30))\n",
    "plt.imshow(res[:, :, ::-1])\n",
    "plt.axis('off')\n",
    "plt.show()"
   ]
  },
  {
   "cell_type": "code",
   "execution_count": null,
   "id": "obvious-scoop",
   "metadata": {},
   "outputs": [],
   "source": []
  }
 ],
 "metadata": {
  "kernelspec": {
   "display_name": "Python 3",
   "language": "python",
   "name": "python3"
  },
  "language_info": {
   "codemirror_mode": {
    "name": "ipython",
    "version": 3
   },
   "file_extension": ".py",
   "mimetype": "text/x-python",
   "name": "python",
   "nbconvert_exporter": "python",
   "pygments_lexer": "ipython3",
   "version": "3.9.2"
  },
  "toc": {
   "base_numbering": 1,
   "nav_menu": {},
   "number_sections": true,
   "sideBar": true,
   "skip_h1_title": false,
   "title_cell": "Table of Contents",
   "title_sidebar": "Contents",
   "toc_cell": false,
   "toc_position": {},
   "toc_section_display": true,
   "toc_window_display": false
  }
 },
 "nbformat": 4,
 "nbformat_minor": 5
}
