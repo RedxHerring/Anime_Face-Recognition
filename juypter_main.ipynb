{
 "cells": [
  {
   "cell_type": "markdown",
   "metadata": {},
   "source": [
    "<h3>Google Image Scraper for Juypter Notebook</h3>"
   ]
  },
  {
   "cell_type": "code",
   "execution_count": null,
   "metadata": {},
   "outputs": [],
   "source": [
    "import matplotlib.pyplot as plt\n",
    "\n",
    "def isgray(imgpath):\n",
    "    img = cv2.imread(imgpath)\n",
    "    if len(img.shape) < 3: return True\n",
    "    if img.shape[2]  == 1: return True\n",
    "    b,g,r = img[:,:,0], img[:,:,1], img[:,:,2]\n",
    "    plt.imshow(b,cmap='gray')\n",
    "    plt.imshow(g,cmap='gray')\n",
    "    plt.imshow(r,cmap='gray')\n",
    "    if (b==g).all() and (b==r).all(): return True\n",
    "    return False\n",
    "\n",
    "anime_file = \"Monster-Characters.csv\"\n",
    "images_path = 'Images/google-images'\n",
    "if images_path[0] != '/':\n",
    "    images_path = os.path.normpath(os.path.join(os.getcwd(),images_path))\n",
    "df = pd.read_csv(anime_file)\n",
    "idx = 62\n",
    "image_path = os.path.join(images_path,df.Name[idx].replace(\" \",\"_\"))\n",
    "file = 'Wolfgang_Grimmer_221.jpeg'\n",
    "if file.endswith(\".png\") or file.endswith(\".jpg\") or file.endswith(\".jpeg\") or file.endswith(\".webp\"):\n",
    "    full_name = os.path.join(image_path,file)\n",
    "    if isgray(full_name):\n",
    "        os.remove(full_name)"
   ]
  },
  {
   "cell_type": "code",
   "execution_count": null,
   "metadata": {},
   "outputs": [],
   "source": []
  }
 ],
 "metadata": {
  "kernelspec": {
   "display_name": "Python 3 (ipykernel)",
   "language": "python",
   "name": "python3"
  },
  "language_info": {
   "codemirror_mode": {
    "name": "ipython",
    "version": 3
   },
   "file_extension": ".py",
   "mimetype": "text/x-python",
   "name": "python",
   "nbconvert_exporter": "python",
   "pygments_lexer": "ipython3",
   "version": "3.8.5"
  }
 },
 "nbformat": 4,
 "nbformat_minor": 4
}
